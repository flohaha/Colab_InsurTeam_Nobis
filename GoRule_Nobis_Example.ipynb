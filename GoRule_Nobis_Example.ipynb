{
  "cells": [
    {
      "cell_type": "markdown",
      "metadata": {
        "id": "view-in-github",
        "colab_type": "text"
      },
      "source": [
        "<a href=\"https://colab.research.google.com/github/flohaha/Colab_InsurTeam_Nobis/blob/main/GoRule_Nobis_Example.ipynb\" target=\"_parent\"><img src=\"https://colab.research.google.com/assets/colab-badge.svg\" alt=\"Open In Colab\"/></a>"
      ]
    },
    {
      "cell_type": "code",
      "execution_count": null,
      "metadata": {
        "id": "nGZ6YBVYYEp7"
      },
      "outputs": [],
      "source": [
        "###\n",
        "# https://pypi.org/project/zen-engine/\n",
        "# https://github.com/gorules/zen\n",
        "# https://gorules.io/docs/developers/bre/engines/python\n",
        "# https://gorules.io/docs/developers/bre/json-decision-model\n",
        "# https://editor.gorules.io/\n",
        "# https://gorules.io/docs/developers/bre/engines/python\n",
        "# https://octopus.do/m49vo7yfjgn\n",
        "\n",
        "### https://octopus.do/6kjorgbiq6\n",
        "\n"
      ]
    },
    {
      "cell_type": "code",
      "execution_count": null,
      "metadata": {
        "colab": {
          "base_uri": "https://localhost:8080/"
        },
        "id": "DSyIchxQYt_m",
        "outputId": "c8f630be-7246-4aba-8113-a88841040ca7"
      },
      "outputs": [
        {
          "output_type": "stream",
          "name": "stdout",
          "text": [
            "Requirement already satisfied: zen-engine in /usr/local/lib/python3.10/dist-packages (0.21.0)\n"
          ]
        }
      ],
      "source": [
        "! pip install zen-engine"
      ]
    },
    {
      "cell_type": "code",
      "execution_count": null,
      "metadata": {
        "id": "JRxYzZviYwLM"
      },
      "outputs": [],
      "source": [
        "import zen\n",
        "import json"
      ]
    },
    {
      "cell_type": "code",
      "source": [
        "### json_file >>>> https://drive.google.com/file/d/10Jz98zASnwxFVRI0aMGx55EburoHBl1i/view?usp=drive_link"
      ],
      "metadata": {
        "id": "EKUHI6Za1qA8"
      },
      "execution_count": null,
      "outputs": []
    },
    {
      "cell_type": "code",
      "execution_count": null,
      "metadata": {
        "id": "oSv5a-Pca_1F"
      },
      "outputs": [],
      "source": [
        "# mount folder from left panel\n",
        "\n",
        "#json_rule_file_location = './drive/MyDrive/PRO/InsurTech-SysTech/SysTech_Doc/Nobis_Cancellation_Rules/Rule_Engine_Gorules_Editor_FinTech_Example.json'\n",
        "json_rule_file_location = './drive/MyDrive/PRO/InsurTech-SysTech/SysTech_AI/Nobis_Cancellation_Rules/Rule_Engine_Gorules_Editor_Nobis_FINAL10.json'"
      ]
    },
    {
      "cell_type": "code",
      "execution_count": null,
      "metadata": {
        "id": "2CZg8v4LZEP1"
      },
      "outputs": [],
      "source": [
        "def loader(key):\n",
        "    with open(\"./\" + key, \"r\") as f:\n",
        "        return f.read()\n",
        "\n",
        "engine = zen.ZenEngine({\"loader\": loader})\n"
      ]
    },
    {
      "cell_type": "code",
      "execution_count": null,
      "metadata": {
        "colab": {
          "base_uri": "https://localhost:8080/"
        },
        "id": "OXpBTZ6k2I0m",
        "outputId": "059edc10-a9c0-43df-ae67-0951f8814c28"
      },
      "outputs": [
        {
          "output_type": "stream",
          "name": "stdout",
          "text": [
            "<class 'dict'> {'claim': 'Cancel', 'cancel_date': '2024-04-05', 'cancel_reason': 'Covid', 'ppl_concerned': 'BusinessPartner', 'documents_input': {'Certif_Covid': 'true', 'Penalty': 'true', 'Certif_Business': 'true'}}\n"
          ]
        }
      ],
      "source": [
        "input_json = '''{\n",
        "  \"claim\": \"Cancel\",\n",
        "  \"cancel_date\": \"2024-04-05\",\n",
        "  \"cancel_reason\": \"Covid\",\n",
        "  \"ppl_concerned\": \"BusinessPartner\",\n",
        "  \"documents_input\": {\n",
        "    \"Certif_Covid\": \"true\",\n",
        "    \"Penalty\": \"true\",\n",
        "    \"Certif_Business\":\"true\"\n",
        "    }\n",
        "  }\n",
        "'''\n",
        "\n",
        "input_json = json.loads(input_json)\n",
        "print(type(input_json), input_json)"
      ]
    },
    {
      "cell_type": "code",
      "execution_count": null,
      "metadata": {
        "colab": {
          "base_uri": "https://localhost:8080/"
        },
        "id": "IKsYB4ubsX-W",
        "outputId": "61f0effd-fd60-4d3a-b541-cd40f93349bd"
      },
      "outputs": [
        {
          "output_type": "stream",
          "name": "stdout",
          "text": [
            "{'result': {'cancel_date': '2024-04-05', 'stage': 'complete_fail', 'documents_input': {'Penalty': 'true', 'Certif_Business': 'true', 'Certif_Covid': 'true'}, 'claim': 'Cancel', 'cancel_reason': 'Covid', 'ppl_concerned': 'BusinessPartner', 'message': 'Sorry your policies with us implies you announce a claim before midnight of the day following the issue. To discuss exceptions, please call us', 'answer_options': '[phone_number]'}, 'performance': '3.089126ms'}\n",
            "Sorry your policies with us implies you announce a claim before midnight of the day following the issue. To discuss exceptions, please call us\n"
          ]
        }
      ],
      "source": [
        "##print(type(input_json), input_json)\n",
        "\n",
        "\n",
        "result = engine.evaluate(json_rule_file_location, input_json)\n",
        "\n",
        "print(result)\n",
        "\n",
        "print(result['result']['message'])"
      ]
    },
    {
      "cell_type": "code",
      "source": [
        "input_json = '''{\n",
        "  \"claim\": \"Cancel\"\n",
        "  }\n",
        "'''\n",
        "\n",
        "input_json = json.loads(input_json)\n",
        "\n",
        "input_json[\"cancel_date\"] = \"2024-05-01\"\n",
        "\n",
        "print(type(input_json), input_json)\n",
        "\n",
        "json.dumps(input_json)"
      ],
      "metadata": {
        "colab": {
          "base_uri": "https://localhost:8080/",
          "height": 53
        },
        "id": "2K1wAhf83gVZ",
        "outputId": "14dc49ba-9de0-4a69-b050-eab56595ee84"
      },
      "execution_count": null,
      "outputs": [
        {
          "output_type": "stream",
          "name": "stdout",
          "text": [
            "<class 'dict'> {'claim': 'Cancel', 'cancel_date': '2024-05-01'}\n"
          ]
        },
        {
          "output_type": "execute_result",
          "data": {
            "text/plain": [
              "'{\"claim\": \"Cancel\", \"cancel_date\": \"2024-05-01\"}'"
            ],
            "application/vnd.google.colaboratory.intrinsic+json": {
              "type": "string"
            }
          },
          "metadata": {},
          "execution_count": 63
        }
      ]
    },
    {
      "cell_type": "code",
      "execution_count": null,
      "metadata": {
        "colab": {
          "base_uri": "https://localhost:8080/",
          "height": 507
        },
        "id": "e_m_Sb5rnlsO",
        "outputId": "68541211-1d90-4f78-b180-dfb9137815af"
      },
      "outputs": [
        {
          "output_type": "stream",
          "name": "stdout",
          "text": [
            "{}\n",
            "Please let us know what is your claim about? \n",
            "(1) Cancellation,\n",
            "(2) Baggage Loss,\n",
            "(3) Flight Delay\n",
            "\n",
            "[Cancel, Loss, Delay]\n",
            "claim\n"
          ]
        },
        {
          "output_type": "error",
          "ename": "KeyboardInterrupt",
          "evalue": "Interrupted by user",
          "traceback": [
            "\u001b[0;31m---------------------------------------------------------------------------\u001b[0m",
            "\u001b[0;31mKeyboardInterrupt\u001b[0m                         Traceback (most recent call last)",
            "\u001b[0;32m<ipython-input-64-9424d4fd7d28>\u001b[0m in \u001b[0;36m<cell line: 12>\u001b[0;34m()\u001b[0m\n\u001b[1;32m     34\u001b[0m   \u001b[0mprint\u001b[0m\u001b[0;34m(\u001b[0m\u001b[0mresult\u001b[0m\u001b[0;34m[\u001b[0m\u001b[0;34m'result'\u001b[0m\u001b[0;34m]\u001b[0m\u001b[0;34m[\u001b[0m\u001b[0;34m'stage'\u001b[0m\u001b[0;34m]\u001b[0m\u001b[0;34m)\u001b[0m\u001b[0;34m\u001b[0m\u001b[0;34m\u001b[0m\u001b[0m\n\u001b[1;32m     35\u001b[0m \u001b[0;34m\u001b[0m\u001b[0m\n\u001b[0;32m---> 36\u001b[0;31m   \u001b[0minput_user\u001b[0m \u001b[0;34m=\u001b[0m \u001b[0minput\u001b[0m\u001b[0;34m(\u001b[0m\u001b[0;34m)\u001b[0m\u001b[0;34m\u001b[0m\u001b[0;34m\u001b[0m\u001b[0m\n\u001b[0m\u001b[1;32m     37\u001b[0m   \u001b[0;31m#globals()[result['result']['stage']]\u001b[0m\u001b[0;34m\u001b[0m\u001b[0;34m\u001b[0m\u001b[0m\n\u001b[1;32m     38\u001b[0m \u001b[0;34m\u001b[0m\u001b[0m\n",
            "\u001b[0;32m/usr/local/lib/python3.10/dist-packages/ipykernel/kernelbase.py\u001b[0m in \u001b[0;36mraw_input\u001b[0;34m(self, prompt)\u001b[0m\n\u001b[1;32m    849\u001b[0m                 \u001b[0;34m\"raw_input was called, but this frontend does not support input requests.\"\u001b[0m\u001b[0;34m\u001b[0m\u001b[0;34m\u001b[0m\u001b[0m\n\u001b[1;32m    850\u001b[0m             )\n\u001b[0;32m--> 851\u001b[0;31m         return self._input_request(str(prompt),\n\u001b[0m\u001b[1;32m    852\u001b[0m             \u001b[0mself\u001b[0m\u001b[0;34m.\u001b[0m\u001b[0m_parent_ident\u001b[0m\u001b[0;34m,\u001b[0m\u001b[0;34m\u001b[0m\u001b[0;34m\u001b[0m\u001b[0m\n\u001b[1;32m    853\u001b[0m             \u001b[0mself\u001b[0m\u001b[0;34m.\u001b[0m\u001b[0m_parent_header\u001b[0m\u001b[0;34m,\u001b[0m\u001b[0;34m\u001b[0m\u001b[0;34m\u001b[0m\u001b[0m\n",
            "\u001b[0;32m/usr/local/lib/python3.10/dist-packages/ipykernel/kernelbase.py\u001b[0m in \u001b[0;36m_input_request\u001b[0;34m(self, prompt, ident, parent, password)\u001b[0m\n\u001b[1;32m    893\u001b[0m             \u001b[0;32mexcept\u001b[0m \u001b[0mKeyboardInterrupt\u001b[0m\u001b[0;34m:\u001b[0m\u001b[0;34m\u001b[0m\u001b[0;34m\u001b[0m\u001b[0m\n\u001b[1;32m    894\u001b[0m                 \u001b[0;31m# re-raise KeyboardInterrupt, to truncate traceback\u001b[0m\u001b[0;34m\u001b[0m\u001b[0;34m\u001b[0m\u001b[0m\n\u001b[0;32m--> 895\u001b[0;31m                 \u001b[0;32mraise\u001b[0m \u001b[0mKeyboardInterrupt\u001b[0m\u001b[0;34m(\u001b[0m\u001b[0;34m\"Interrupted by user\"\u001b[0m\u001b[0;34m)\u001b[0m \u001b[0;32mfrom\u001b[0m \u001b[0;32mNone\u001b[0m\u001b[0;34m\u001b[0m\u001b[0;34m\u001b[0m\u001b[0m\n\u001b[0m\u001b[1;32m    896\u001b[0m             \u001b[0;32mexcept\u001b[0m \u001b[0mException\u001b[0m \u001b[0;32mas\u001b[0m \u001b[0me\u001b[0m\u001b[0;34m:\u001b[0m\u001b[0;34m\u001b[0m\u001b[0;34m\u001b[0m\u001b[0m\n\u001b[1;32m    897\u001b[0m                 \u001b[0mself\u001b[0m\u001b[0;34m.\u001b[0m\u001b[0mlog\u001b[0m\u001b[0;34m.\u001b[0m\u001b[0mwarning\u001b[0m\u001b[0;34m(\u001b[0m\u001b[0;34m\"Invalid Message:\"\u001b[0m\u001b[0;34m,\u001b[0m \u001b[0mexc_info\u001b[0m\u001b[0;34m=\u001b[0m\u001b[0;32mTrue\u001b[0m\u001b[0;34m)\u001b[0m\u001b[0;34m\u001b[0m\u001b[0;34m\u001b[0m\u001b[0m\n",
            "\u001b[0;31mKeyboardInterrupt\u001b[0m: Interrupted by user"
          ]
        }
      ],
      "source": [
        "\n",
        "\n",
        "input_json = '''{\n",
        "\n",
        "  }\n",
        "  '''\n",
        "\n",
        "loop = 'continue'\n",
        "\n",
        "#print(input_json)\n",
        "\n",
        "input_json_load = json.loads(input_json)\n",
        "\n",
        "while loop == 'continue':\n",
        "\n",
        "  ##print(type(input_json), input_json)\n",
        "\n",
        "  print(json.dumps(input_json_load))\n",
        "\n",
        "  result = engine.evaluate(json_rule_file_location, input_json_load)\n",
        "\n",
        "  #print(result)\n",
        "\n",
        "  print(result['result']['message'])\n",
        "\n",
        "  try:\n",
        "    print(result['result']['answer_options'])\n",
        "  except:\n",
        "    print('')\n",
        "\n",
        "  #print(result['result']['stage'])\n",
        "\n",
        "  if result['result']['stage'][0:8] == 'complete' or result['result']['stage'] == 'complete_fail' or result['result']['stage'] == 'documents_input':\n",
        "    break\n",
        "\n",
        "  print(result['result']['stage'])\n",
        "\n",
        "  input_user = input()\n",
        "  #globals()[result['result']['stage']]\n",
        "\n",
        "  #input_json = input_json.replace('''{''' , '''{\"'''+result['result']['stage']+'''\":\"'''+ input_user +'''\",''')  ### very dirty\n",
        "  #input_json = input_json.replace(''',\\n\\n}''' , '''}''')\n",
        "\n",
        "  #print(result['result']['stage'])\n",
        "  input_json_load[result['result']['stage']] = input_user\n",
        "\n",
        "\n",
        "\n",
        "  #print(result['result']['stage'])\n",
        "  #print(result['result']['stage'])\n",
        "  #print(input_json)\n",
        "\n"
      ]
    },
    {
      "cell_type": "code",
      "execution_count": null,
      "metadata": {
        "id": "8qG82uih4EJf"
      },
      "outputs": [],
      "source": [
        "### {\"Certif_Covid\":\"true\",\"Penalty\":\"true\",\"Certif_Business\":\"true\"}"
      ]
    }
  ],
  "metadata": {
    "colab": {
      "provenance": [],
      "mount_file_id": "1OgpuW51rHhNHBJLRpmK78tZRDBFCUeNc",
      "authorship_tag": "ABX9TyPBbmn1n+/NBKQzXsrXG9PV",
      "include_colab_link": true
    },
    "kernelspec": {
      "display_name": "Python 3",
      "name": "python3"
    },
    "language_info": {
      "name": "python"
    }
  },
  "nbformat": 4,
  "nbformat_minor": 0
}