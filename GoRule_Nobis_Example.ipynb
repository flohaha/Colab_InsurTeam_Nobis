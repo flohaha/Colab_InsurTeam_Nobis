{
  "cells": [
    {
      "cell_type": "markdown",
      "metadata": {
        "id": "view-in-github",
        "colab_type": "text"
      },
      "source": [
        "<a href=\"https://colab.research.google.com/github/flohaha/Colab_InsurTeam_Nobis/blob/main/GoRule_Nobis_Example.ipynb\" target=\"_parent\"><img src=\"https://colab.research.google.com/assets/colab-badge.svg\" alt=\"Open In Colab\"/></a>"
      ]
    },
    {
      "cell_type": "code",
      "execution_count": 1,
      "metadata": {
        "id": "nGZ6YBVYYEp7"
      },
      "outputs": [],
      "source": [
        "###\n",
        "# https://pypi.org/project/zen-engine/\n",
        "# https://github.com/gorules/zen\n",
        "# https://gorules.io/docs/developers/bre/engines/python\n",
        "# https://gorules.io/docs/developers/bre/json-decision-model\n",
        "# https://editor.gorules.io/\n",
        "# https://gorules.io/docs/developers/bre/engines/python\n",
        "# https://octopus.do/m49vo7yfjgn\n",
        "\n",
        "### https://octopus.do/6kjorgbiq6\n",
        "\n"
      ]
    },
    {
      "cell_type": "code",
      "execution_count": 2,
      "metadata": {
        "colab": {
          "base_uri": "https://localhost:8080/"
        },
        "id": "DSyIchxQYt_m",
        "outputId": "04246a01-b28b-4e63-b358-072b867a8849"
      },
      "outputs": [
        {
          "output_type": "stream",
          "name": "stdout",
          "text": [
            "Collecting zen-engine\n",
            "  Downloading zen_engine-0.21.0-cp310-cp310-manylinux_2_28_x86_64.whl (1.7 MB)\n",
            "\u001b[2K     \u001b[90m━━━━━━━━━━━━━━━━━━━━━━━━━━━━━━━━━━━━━━━━\u001b[0m \u001b[32m1.7/1.7 MB\u001b[0m \u001b[31m8.3 MB/s\u001b[0m eta \u001b[36m0:00:00\u001b[0m\n",
            "\u001b[?25hInstalling collected packages: zen-engine\n",
            "Successfully installed zen-engine-0.21.0\n"
          ]
        }
      ],
      "source": [
        "! pip install zen-engine"
      ]
    },
    {
      "cell_type": "code",
      "execution_count": 3,
      "metadata": {
        "id": "JRxYzZviYwLM"
      },
      "outputs": [],
      "source": [
        "import zen\n",
        "import json"
      ]
    },
    {
      "cell_type": "code",
      "source": [
        "### json_file >>>> https://drive.google.com/file/d/10Jz98zASnwxFVRI0aMGx55EburoHBl1i/view?usp=drive_link"
      ],
      "metadata": {
        "id": "EKUHI6Za1qA8"
      },
      "execution_count": 4,
      "outputs": []
    },
    {
      "cell_type": "code",
      "execution_count": 5,
      "metadata": {
        "id": "oSv5a-Pca_1F"
      },
      "outputs": [],
      "source": [
        "# mount folder from left panel\n",
        "\n",
        "#json_rule_file_location = './drive/MyDrive/PRO/InsurTech-SysTech/SysTech_Doc/Nobis_Cancellation_Rules/Rule_Engine_Gorules_Editor_FinTech_Example.json'\n",
        "json_rule_file_location = './drive/MyDrive/PRO/InsurTech-SysTech/SysTech_AI/Nobis_Cancellation_Rules/Rule_Engine_Gorules_Editor_Nobis_FINAL10.json'"
      ]
    },
    {
      "cell_type": "code",
      "source": [
        " try:\n",
        "    from google.colab import drive\n",
        "    drive.mount('/content/drive')\n",
        "    #!ls -l /content/drive/'My Drive/PRO/BetterStronger/ROPA'\n",
        "except:\n",
        "    print('couldnt connect')"
      ],
      "metadata": {
        "id": "jjS1GEWA8HOy",
        "outputId": "d36b60e4-21db-483f-8f9c-7d456344e588",
        "colab": {
          "base_uri": "https://localhost:8080/"
        }
      },
      "execution_count": 9,
      "outputs": [
        {
          "output_type": "stream",
          "name": "stdout",
          "text": [
            "Mounted at /content/drive\n"
          ]
        }
      ]
    },
    {
      "cell_type": "code",
      "execution_count": 10,
      "metadata": {
        "id": "2CZg8v4LZEP1"
      },
      "outputs": [],
      "source": [
        "def loader(key):\n",
        "    with open(\"./\" + key, \"r\") as f:\n",
        "        return f.read()\n",
        "\n",
        "engine = zen.ZenEngine({\"loader\": loader})\n"
      ]
    },
    {
      "cell_type": "code",
      "execution_count": 11,
      "metadata": {
        "colab": {
          "base_uri": "https://localhost:8080/"
        },
        "id": "OXpBTZ6k2I0m",
        "outputId": "23a97116-ac9a-49e2-93a8-e7c79b3e1962"
      },
      "outputs": [
        {
          "output_type": "stream",
          "name": "stdout",
          "text": [
            "<class 'dict'> {'claim': 'Cancel', 'cancel_date': '2024-04-05', 'cancel_reason': 'Covid', 'ppl_concerned': 'BusinessPartner', 'documents_input': {'Certif_Covid': 'true', 'Penalty': 'true', 'Certif_Business': 'true'}}\n"
          ]
        }
      ],
      "source": [
        "input_json = '''{\n",
        "  \"claim\": \"Cancel\",\n",
        "  \"cancel_date\": \"2024-04-05\",\n",
        "  \"cancel_reason\": \"Covid\",\n",
        "  \"ppl_concerned\": \"BusinessPartner\",\n",
        "  \"documents_input\": {\n",
        "    \"Certif_Covid\": \"true\",\n",
        "    \"Penalty\": \"true\",\n",
        "    \"Certif_Business\":\"true\"\n",
        "    }\n",
        "  }\n",
        "'''\n",
        "\n",
        "input_json = json.loads(input_json)\n",
        "print(type(input_json), input_json)"
      ]
    },
    {
      "cell_type": "code",
      "execution_count": 12,
      "metadata": {
        "colab": {
          "base_uri": "https://localhost:8080/"
        },
        "id": "IKsYB4ubsX-W",
        "outputId": "38faa72b-b107-4ffd-b0d1-74e404f7fdc8"
      },
      "outputs": [
        {
          "output_type": "stream",
          "name": "stdout",
          "text": [
            "{'performance': '3.013681ms', 'result': {'stage': 'complete_fail', 'answer_options': '[phone_number]', 'claim': 'Cancel', 'message': 'Sorry your policies with us implies you announce a claim before midnight of the day following the issue. To discuss exceptions, please call us', 'cancel_date': '2024-04-05', 'cancel_reason': 'Covid', 'documents_input': {'Penalty': 'true', 'Certif_Covid': 'true', 'Certif_Business': 'true'}, 'ppl_concerned': 'BusinessPartner'}}\n",
            "Sorry your policies with us implies you announce a claim before midnight of the day following the issue. To discuss exceptions, please call us\n"
          ]
        }
      ],
      "source": [
        "##print(type(input_json), input_json)\n",
        "\n",
        "\n",
        "result = engine.evaluate(json_rule_file_location, input_json)\n",
        "\n",
        "print(result)\n",
        "\n",
        "print(result['result']['message'])"
      ]
    },
    {
      "cell_type": "code",
      "source": [
        "input_json = '''{\n",
        "  \"claim\": \"Cancel\"\n",
        "  }\n",
        "'''\n",
        "\n",
        "input_json = json.loads(input_json)\n",
        "\n",
        "input_json[\"cancel_date\"] = \"2024-05-01\"\n",
        "\n",
        "print(type(input_json), input_json)\n",
        "\n",
        "json.dumps(input_json)"
      ],
      "metadata": {
        "colab": {
          "base_uri": "https://localhost:8080/",
          "height": 53
        },
        "id": "2K1wAhf83gVZ",
        "outputId": "883f1a30-e01e-4930-dbd7-e599fc2655d0"
      },
      "execution_count": 13,
      "outputs": [
        {
          "output_type": "stream",
          "name": "stdout",
          "text": [
            "<class 'dict'> {'claim': 'Cancel', 'cancel_date': '2024-05-01'}\n"
          ]
        },
        {
          "output_type": "execute_result",
          "data": {
            "text/plain": [
              "'{\"claim\": \"Cancel\", \"cancel_date\": \"2024-05-01\"}'"
            ],
            "application/vnd.google.colaboratory.intrinsic+json": {
              "type": "string"
            }
          },
          "metadata": {},
          "execution_count": 13
        }
      ]
    },
    {
      "cell_type": "code",
      "execution_count": 14,
      "metadata": {
        "colab": {
          "base_uri": "https://localhost:8080/"
        },
        "id": "e_m_Sb5rnlsO",
        "outputId": "d795e369-8eed-4499-a156-b0a0e25e570d"
      },
      "outputs": [
        {
          "output_type": "stream",
          "name": "stdout",
          "text": [
            "{}\n",
            "Please let us know what is your claim about? \n",
            "(1) Cancellation,\n",
            "(2) Baggage Loss,\n",
            "(3) Flight Delay\n",
            "\n",
            "[Cancel, Loss, Delay]\n",
            "claim\n",
            "Cancel\n",
            "{\"claim\": \"Cancel\"}\n",
            "We are sorry you have to cancel your trip. When did the issue happen?\n",
            "[date yyyy-mm-dd]\n",
            "cancel_date\n",
            "2024-06-01\n",
            "{\"claim\": \"Cancel\", \"cancel_date\": \"2024-06-01\"}\n",
            "We are sorry you have to cancel your trip, what was the reason?\n",
            "[Covid, Hospital, Death]\n",
            "cancel_reason\n",
            "Covid\n",
            "{\"claim\": \"Cancel\", \"cancel_date\": \"2024-06-01\", \"cancel_reason\": \"Covid\"}\n",
            "Who are the people concerned?\n",
            "[Traveler, Relative, BusinessPartner, Other]\n",
            "ppl_concerned\n",
            "Traveler\n",
            "{\"claim\": \"Cancel\", \"cancel_date\": \"2024-06-01\", \"cancel_reason\": \"Covid\", \"ppl_concerned\": \"Traveler\"}\n",
            "2 documents are necessary to process your claim: \n",
            "(1) A document from the hospital, reporting the name of the person involved and the prognosis of Covid , \n",
            "(2) The Penalty Account Statement released by <Operator> \n",
            "Please upload them directly here.\n",
            "\n"
          ]
        }
      ],
      "source": [
        "\n",
        "\n",
        "input_json = '''{\n",
        "\n",
        "  }\n",
        "  '''\n",
        "\n",
        "loop = 'continue'\n",
        "\n",
        "#print(input_json)\n",
        "\n",
        "input_json_load = json.loads(input_json)\n",
        "\n",
        "while loop == 'continue':\n",
        "\n",
        "  ##print(type(input_json), input_json)\n",
        "\n",
        "  print(json.dumps(input_json_load))\n",
        "\n",
        "  result = engine.evaluate(json_rule_file_location, input_json_load)\n",
        "\n",
        "  #print(result)\n",
        "\n",
        "  print(result['result']['message'])\n",
        "\n",
        "  try:\n",
        "    print(result['result']['answer_options'])\n",
        "  except:\n",
        "    print('')\n",
        "\n",
        "  #print(result['result']['stage'])\n",
        "\n",
        "  if result['result']['stage'][0:8] == 'complete' or result['result']['stage'] == 'complete_fail' or result['result']['stage'] == 'documents_input':\n",
        "    break\n",
        "\n",
        "  print(result['result']['stage'])\n",
        "\n",
        "  input_user = input()\n",
        "  #globals()[result['result']['stage']]\n",
        "\n",
        "  #input_json = input_json.replace('''{''' , '''{\"'''+result['result']['stage']+'''\":\"'''+ input_user +'''\",''')  ### very dirty\n",
        "  #input_json = input_json.replace(''',\\n\\n}''' , '''}''')\n",
        "\n",
        "  #print(result['result']['stage'])\n",
        "  input_json_load[result['result']['stage']] = input_user\n",
        "\n",
        "\n",
        "\n",
        "  #print(result['result']['stage'])\n",
        "  #print(result['result']['stage'])\n",
        "  #print(input_json)\n",
        "\n"
      ]
    },
    {
      "cell_type": "code",
      "execution_count": 15,
      "metadata": {
        "id": "8qG82uih4EJf"
      },
      "outputs": [],
      "source": [
        "### {\"Certif_Covid\":\"true\",\"Penalty\":\"true\",\"Certif_Business\":\"true\"}"
      ]
    },
    {
      "cell_type": "code",
      "source": [],
      "metadata": {
        "id": "w9p-CfeJ8Oe_"
      },
      "execution_count": 15,
      "outputs": []
    }
  ],
  "metadata": {
    "colab": {
      "provenance": [],
      "mount_file_id": "1OgpuW51rHhNHBJLRpmK78tZRDBFCUeNc",
      "authorship_tag": "ABX9TyOHABJxyHpnX1GDjJZV/0XU",
      "include_colab_link": true
    },
    "kernelspec": {
      "display_name": "Python 3",
      "name": "python3"
    },
    "language_info": {
      "name": "python"
    }
  },
  "nbformat": 4,
  "nbformat_minor": 0
}