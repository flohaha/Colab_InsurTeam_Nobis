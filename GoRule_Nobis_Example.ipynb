{
  "cells": [
    {
      "cell_type": "markdown",
      "metadata": {
        "id": "view-in-github",
        "colab_type": "text"
      },
      "source": [
        "<a href=\"https://colab.research.google.com/github/flohaha/Colab_InsurTeam_Nobis/blob/main/GoRule_Nobis_Example.ipynb\" target=\"_parent\"><img src=\"https://colab.research.google.com/assets/colab-badge.svg\" alt=\"Open In Colab\"/></a>"
      ]
    },
    {
      "cell_type": "markdown",
      "source": [
        "# Set-Up"
      ],
      "metadata": {
        "id": "H3H_uXwSL7mZ"
      }
    },
    {
      "cell_type": "code",
      "execution_count": null,
      "metadata": {
        "id": "nGZ6YBVYYEp7"
      },
      "outputs": [],
      "source": [
        "### Sites usefuls\n",
        "###\n",
        "# https://pypi.org/project/zen-engine/\n",
        "# https://github.com/gorules/zen\n",
        "# https://gorules.io/docs/developers/bre/engines/python\n",
        "# https://gorules.io/docs/developers/bre/json-decision-model\n",
        "# https://editor.gorules.io/\n",
        "# https://gorules.io/docs/developers/bre/engines/python\n",
        "# https://octopus.do/m49vo7yfjgn\n",
        "\n",
        "### https://octopus.do/6kjorgbiq6\n",
        "\n"
      ]
    },
    {
      "cell_type": "code",
      "execution_count": 6,
      "metadata": {
        "colab": {
          "base_uri": "https://localhost:8080/"
        },
        "id": "DSyIchxQYt_m",
        "outputId": "081d88d8-3006-4f2f-a5e2-fb2b178fb818"
      },
      "outputs": [
        {
          "output_type": "stream",
          "name": "stdout",
          "text": [
            "Requirement already satisfied: zen-engine in /usr/local/lib/python3.10/dist-packages (0.21.0)\n"
          ]
        }
      ],
      "source": [
        "### install python zen-engine allowing business rul\n",
        "\n",
        "! pip install zen-engine"
      ]
    },
    {
      "cell_type": "code",
      "execution_count": 7,
      "metadata": {
        "id": "JRxYzZviYwLM"
      },
      "outputs": [],
      "source": [
        "import zen\n",
        "import json"
      ]
    },
    {
      "cell_type": "markdown",
      "source": [
        "# Load json from drive shared file json"
      ],
      "metadata": {
        "id": "afs9X7asL_bc"
      }
    },
    {
      "cell_type": "code",
      "source": [
        "json_file_url_drive_share = 'https://drive.google.com/file/d/10Jz98zASnwxFVRI0aMGx55EburoHBl1i/view?usp=sharing'"
      ],
      "metadata": {
        "id": "EKUHI6Za1qA8"
      },
      "execution_count": 8,
      "outputs": []
    },
    {
      "cell_type": "code",
      "source": [
        "from google_drive_downloader import GoogleDriveDownloader as gdd\n",
        "\n",
        "gdd.download_file_from_google_drive(file_id='10Jz98zASnwxFVRI0aMGx55EburoHBl1i',\n",
        "                                    dest_path='./nobis.json',\n",
        "                                    unzip=True)\n"
      ],
      "metadata": {
        "id": "4y6BeIugRZWq"
      },
      "execution_count": 9,
      "outputs": []
    },
    {
      "cell_type": "code",
      "source": [
        "def loader(key):\n",
        "    with open(\"./\" + key, \"r\") as f:\n",
        "        return f.read()\n",
        "\n",
        "engine = zen.ZenEngine({\"loader\": loader})\n"
      ],
      "metadata": {
        "id": "be-sNbVfNauf"
      },
      "execution_count": 10,
      "outputs": []
    },
    {
      "cell_type": "code",
      "source": [
        "### initial json\n",
        "\n",
        "input_json = '''{\n",
        "  \"claim\": \"Cancel\",\n",
        "  \"cancel_date\": \"2024-04-05\",\n",
        "  \"cancel_reason\": \"Covid\",\n",
        "  \"ppl_concerned\": \"BusinessPartner\",\n",
        "  \"documents_input\": {\n",
        "    \"Certif_Covid\": \"true\",\n",
        "    \"Penalty\": \"true\",\n",
        "    \"Certif_Business\":\"true\"\n",
        "    }\n",
        "  }\n",
        "'''\n",
        "\n",
        "input_json = json.loads(input_json)\n",
        "print(type(input_json), input_json)"
      ],
      "metadata": {
        "colab": {
          "base_uri": "https://localhost:8080/"
        },
        "id": "L1c2cgvPNeVI",
        "outputId": "211caac6-36ce-436e-b4d2-b9f7379ea903"
      },
      "execution_count": 11,
      "outputs": [
        {
          "output_type": "stream",
          "name": "stdout",
          "text": [
            "<class 'dict'> {'claim': 'Cancel', 'cancel_date': '2024-04-05', 'cancel_reason': 'Covid', 'ppl_concerned': 'BusinessPartner', 'documents_input': {'Certif_Covid': 'true', 'Penalty': 'true', 'Certif_Business': 'true'}}\n"
          ]
        }
      ]
    },
    {
      "cell_type": "code",
      "execution_count": 12,
      "metadata": {
        "id": "oSv5a-Pca_1F",
        "colab": {
          "base_uri": "https://localhost:8080/"
        },
        "outputId": "3a0143c7-897c-4059-deca-d4cd8e23f2e2"
      },
      "outputs": [
        {
          "output_type": "stream",
          "name": "stdout",
          "text": [
            "<class 'str'>\n",
            "business rule engine loaded from drive\n",
            "{'result': {'documents_input': {'Certif_Covid': 'true', 'Certif_Business': 'true', 'Penalty': 'true'}, 'answer_options': '[phone_number]', 'cancel_date': '2024-04-05', 'message': 'Sorry your policies with us implies you announce a claim before midnight of the day following the issue. To discuss exceptions, please call us', 'claim': 'Cancel', 'cancel_reason': 'Covid', 'stage': 'complete_fail', 'ppl_concerned': 'BusinessPartner'}, 'performance': '2.832073ms'}\n"
          ]
        }
      ],
      "source": [
        "# load json file in business rule\n",
        "\n",
        "print(type(json_rule_file_location))\n",
        "result = engine.evaluate('./nobis.json', input_json)\n",
        "print('business rule engine loaded from drive')\n",
        "print(result)"
      ]
    },
    {
      "cell_type": "code",
      "execution_count": 14,
      "metadata": {
        "colab": {
          "base_uri": "https://localhost:8080/"
        },
        "id": "IKsYB4ubsX-W",
        "outputId": "8e445406-a289-4fbd-82e1-ee153d46e51f"
      },
      "outputs": [
        {
          "output_type": "stream",
          "name": "stdout",
          "text": [
            "{'performance': '4.947186ms', 'result': {'answer_options': '[phone_number]', 'cancel_reason': 'Covid', 'ppl_concerned': 'BusinessPartner', 'cancel_date': '2024-04-05', 'documents_input': {'Certif_Covid': 'true', 'Penalty': 'true', 'Certif_Business': 'true'}, 'stage': 'complete_fail', 'claim': 'Cancel', 'message': 'Sorry your policies with us implies you announce a claim before midnight of the day following the issue. To discuss exceptions, please call us'}}\n",
            "Sorry your policies with us implies you announce a claim before midnight of the day following the issue. To discuss exceptions, please call us\n"
          ]
        }
      ],
      "source": [
        "### test bre\n",
        "\n",
        "\n",
        "result = engine.evaluate(json_rule_file_location, input_json)\n",
        "\n",
        "print(result)\n",
        "\n",
        "print(result['result']['message'])"
      ]
    },
    {
      "cell_type": "code",
      "source": [
        "### test json load\n",
        "\n",
        "input_json = '''{\n",
        "  \"claim\": \"Cancel\"\n",
        "  }\n",
        "'''\n",
        "\n",
        "input_json = json.loads(input_json)\n",
        "\n",
        "input_json[\"cancel_date\"] = \"2024-05-01\"\n",
        "\n",
        "print(type(input_json), input_json)\n",
        "\n",
        "json.dumps(input_json)"
      ],
      "metadata": {
        "colab": {
          "base_uri": "https://localhost:8080/",
          "height": 53
        },
        "id": "2K1wAhf83gVZ",
        "outputId": "f6b3a613-2497-4318-cba2-050f9f5a115e"
      },
      "execution_count": 15,
      "outputs": [
        {
          "output_type": "stream",
          "name": "stdout",
          "text": [
            "<class 'dict'> {'claim': 'Cancel', 'cancel_date': '2024-05-01'}\n"
          ]
        },
        {
          "output_type": "execute_result",
          "data": {
            "text/plain": [
              "'{\"claim\": \"Cancel\", \"cancel_date\": \"2024-05-01\"}'"
            ],
            "application/vnd.google.colaboratory.intrinsic+json": {
              "type": "string"
            }
          },
          "metadata": {},
          "execution_count": 15
        }
      ]
    },
    {
      "cell_type": "code",
      "execution_count": null,
      "metadata": {
        "colab": {
          "base_uri": "https://localhost:8080/"
        },
        "id": "e_m_Sb5rnlsO",
        "outputId": "de0df814-01cd-4e85-8e0a-a9186d2f3c9b"
      },
      "outputs": [
        {
          "output_type": "stream",
          "name": "stdout",
          "text": [
            "{}\n",
            "Please let us know what is your claim about? \n",
            "(1) Cancellation,\n",
            "(2) Baggage Loss,\n",
            "(3) Flight Delay\n",
            "\n",
            "[Cancel, Loss, Delay]\n",
            "claim\n"
          ]
        }
      ],
      "source": [
        "### run the business rule engine loop until documents requirements\n",
        "### set up to work only on Cancel for Covid\n",
        "\n",
        "\n",
        "input_json = '''{\n",
        "\n",
        "  }\n",
        "  '''\n",
        "\n",
        "loop = 'continue'\n",
        "\n",
        "#print(input_json)\n",
        "\n",
        "input_json_load = json.loads(input_json)\n",
        "\n",
        "while loop == 'continue':\n",
        "\n",
        "  ##print(type(input_json), input_json)\n",
        "\n",
        "  print(json.dumps(input_json_load))\n",
        "\n",
        "  result = engine.evaluate(json_rule_file_location, input_json_load)\n",
        "\n",
        "  #print(result)\n",
        "\n",
        "  print(result['result']['message'])\n",
        "\n",
        "  try:\n",
        "    print(result['result']['answer_options'])\n",
        "  except:\n",
        "    print('')\n",
        "\n",
        "  #print(result['result']['stage'])\n",
        "\n",
        "  if result['result']['stage'][0:8] == 'complete' or result['result']['stage'] == 'complete_fail' or result['result']['stage'] == 'documents_input':\n",
        "    break\n",
        "\n",
        "  print(result['result']['stage'])\n",
        "\n",
        "  input_user = input()\n",
        "  #globals()[result['result']['stage']]\n",
        "\n",
        "  #input_json = input_json.replace('''{''' , '''{\"'''+result['result']['stage']+'''\":\"'''+ input_user +'''\",''')  ### very dirty\n",
        "  #input_json = input_json.replace(''',\\n\\n}''' , '''}''')\n",
        "\n",
        "  #print(result['result']['stage'])\n",
        "  input_json_load[result['result']['stage']] = input_user\n",
        "\n",
        "\n",
        "\n",
        "  #print(result['result']['stage'])\n",
        "  #print(result['result']['stage'])\n",
        "  #print(input_json)\n",
        "\n"
      ]
    },
    {
      "cell_type": "code",
      "source": [],
      "metadata": {
        "id": "4MT7M7xZV0fw"
      },
      "execution_count": null,
      "outputs": []
    }
  ],
  "metadata": {
    "colab": {
      "provenance": [],
      "mount_file_id": "1OgpuW51rHhNHBJLRpmK78tZRDBFCUeNc",
      "authorship_tag": "ABX9TyOQkUdHm6u52EyeeBaVXBfF",
      "include_colab_link": true
    },
    "kernelspec": {
      "display_name": "Python 3",
      "name": "python3"
    },
    "language_info": {
      "name": "python"
    }
  },
  "nbformat": 4,
  "nbformat_minor": 0
}