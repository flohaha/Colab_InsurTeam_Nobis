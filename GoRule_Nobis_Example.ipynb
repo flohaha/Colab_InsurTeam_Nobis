{
  "cells": [
    {
      "cell_type": "markdown",
      "metadata": {
        "id": "view-in-github",
        "colab_type": "text"
      },
      "source": [
        "<a href=\"https://colab.research.google.com/github/flohaha/Colab_InsurTeam_Nobis/blob/main/GoRule_Nobis_Example.ipynb\" target=\"_parent\"><img src=\"https://colab.research.google.com/assets/colab-badge.svg\" alt=\"Open In Colab\"/></a>"
      ]
    },
    {
      "cell_type": "markdown",
      "source": [
        "# Set-Up"
      ],
      "metadata": {
        "id": "H3H_uXwSL7mZ"
      }
    },
    {
      "cell_type": "code",
      "execution_count": 1,
      "metadata": {
        "id": "nGZ6YBVYYEp7"
      },
      "outputs": [],
      "source": [
        "### Sites usefuls\n",
        "###\n",
        "# https://pypi.org/project/zen-engine/\n",
        "# https://github.com/gorules/zen\n",
        "# https://gorules.io/docs/developers/bre/engines/python\n",
        "# https://gorules.io/docs/developers/bre/json-decision-model\n",
        "# https://editor.gorules.io/\n",
        "# https://gorules.io/docs/developers/bre/engines/python\n",
        "# https://octopus.do/m49vo7yfjgn\n",
        "\n",
        "### https://octopus.do/6kjorgbiq6\n",
        "\n"
      ]
    },
    {
      "cell_type": "code",
      "execution_count": 2,
      "metadata": {
        "colab": {
          "base_uri": "https://localhost:8080/"
        },
        "id": "DSyIchxQYt_m",
        "outputId": "cc04f63d-9f3f-4315-b23f-e92793ad3c88"
      },
      "outputs": [
        {
          "output_type": "stream",
          "name": "stdout",
          "text": [
            "Collecting zen-engine\n",
            "  Downloading zen_engine-0.21.0-cp310-cp310-manylinux_2_28_x86_64.whl (1.7 MB)\n",
            "\u001b[2K     \u001b[90m━━━━━━━━━━━━━━━━━━━━━━━━━━━━━━━━━━━━━━━━\u001b[0m \u001b[32m1.7/1.7 MB\u001b[0m \u001b[31m6.9 MB/s\u001b[0m eta \u001b[36m0:00:00\u001b[0m\n",
            "\u001b[?25hInstalling collected packages: zen-engine\n",
            "Successfully installed zen-engine-0.21.0\n"
          ]
        }
      ],
      "source": [
        "### install python zen-engine allowing business rul\n",
        "\n",
        "! pip install zen-engine"
      ]
    },
    {
      "cell_type": "code",
      "execution_count": 3,
      "metadata": {
        "id": "JRxYzZviYwLM"
      },
      "outputs": [],
      "source": [
        "import zen\n",
        "import json"
      ]
    },
    {
      "cell_type": "markdown",
      "source": [
        "# Load json from drive shared file json"
      ],
      "metadata": {
        "id": "afs9X7asL_bc"
      }
    },
    {
      "cell_type": "code",
      "source": [
        "json_file_url_drive_share = 'https://drive.google.com/file/d/10Jz98zASnwxFVRI0aMGx55EburoHBl1i/view?usp=sharing'"
      ],
      "metadata": {
        "id": "EKUHI6Za1qA8"
      },
      "execution_count": 4,
      "outputs": []
    },
    {
      "cell_type": "code",
      "source": [
        "from google_drive_downloader import GoogleDriveDownloader as gdd\n",
        "\n",
        "gdd.download_file_from_google_drive(file_id='10Jz98zASnwxFVRI0aMGx55EburoHBl1i',\n",
        "                                    dest_path='./nobis.json',\n",
        "                                    unzip=True)\n"
      ],
      "metadata": {
        "id": "4y6BeIugRZWq",
        "outputId": "fca94da6-7a79-47ea-8198-cf3f195b97a2",
        "colab": {
          "base_uri": "https://localhost:8080/"
        }
      },
      "execution_count": 5,
      "outputs": [
        {
          "output_type": "stream",
          "name": "stdout",
          "text": [
            "Downloading 10Jz98zASnwxFVRI0aMGx55EburoHBl1i into ./nobis.json... Done.\n",
            "Unzipping..."
          ]
        },
        {
          "output_type": "stream",
          "name": "stderr",
          "text": [
            "/usr/local/lib/python3.10/dist-packages/google_drive_downloader/google_drive_downloader.py:78: UserWarning: Ignoring `unzip` since \"10Jz98zASnwxFVRI0aMGx55EburoHBl1i\" does not look like a valid zip file\n",
            "  warnings.warn('Ignoring `unzip` since \"{}\" does not look like a valid zip file'.format(file_id))\n"
          ]
        }
      ]
    },
    {
      "cell_type": "code",
      "source": [
        "def loader(key):\n",
        "    with open(\"./\" + key, \"r\") as f:\n",
        "        return f.read()\n",
        "\n",
        "engine = zen.ZenEngine({\"loader\": loader})\n"
      ],
      "metadata": {
        "id": "be-sNbVfNauf"
      },
      "execution_count": 6,
      "outputs": []
    },
    {
      "cell_type": "code",
      "source": [
        "### initial json\n",
        "\n",
        "input_json = '''{\n",
        "  \"claim\": \"Cancel\",\n",
        "  \"cancel_date\": \"2024-04-05\",\n",
        "  \"cancel_reason\": \"Covid\",\n",
        "  \"ppl_concerned\": \"BusinessPartner\",\n",
        "  \"documents_input\": {\n",
        "    \"Certif_Covid\": \"true\",\n",
        "    \"Penalty\": \"true\",\n",
        "    \"Certif_Business\":\"true\"\n",
        "    }\n",
        "  }\n",
        "'''\n",
        "\n",
        "input_json = json.loads(input_json)\n",
        "print(type(input_json), input_json)"
      ],
      "metadata": {
        "colab": {
          "base_uri": "https://localhost:8080/"
        },
        "id": "L1c2cgvPNeVI",
        "outputId": "215d72d4-ff3c-4865-8f22-d7f05ab1ede1"
      },
      "execution_count": 7,
      "outputs": [
        {
          "output_type": "stream",
          "name": "stdout",
          "text": [
            "<class 'dict'> {'claim': 'Cancel', 'cancel_date': '2024-04-05', 'cancel_reason': 'Covid', 'ppl_concerned': 'BusinessPartner', 'documents_input': {'Certif_Covid': 'true', 'Penalty': 'true', 'Certif_Business': 'true'}}\n"
          ]
        }
      ]
    },
    {
      "cell_type": "code",
      "execution_count": 11,
      "metadata": {
        "id": "oSv5a-Pca_1F",
        "colab": {
          "base_uri": "https://localhost:8080/"
        },
        "outputId": "e06bf8e7-63f4-4648-b6f3-6c7fb6181390"
      },
      "outputs": [
        {
          "output_type": "stream",
          "name": "stdout",
          "text": [
            "business rule engine loaded from drive\n",
            "{'performance': '2.411654ms', 'result': {'answer_options': '[phone_number]', 'documents_input': {'Certif_Covid': 'true', 'Certif_Business': 'true', 'Penalty': 'true'}, 'stage': 'complete_fail', 'message': 'Sorry your policies with us implies you announce a claim before midnight of the day following the issue. To discuss exceptions, please call us', 'cancel_reason': 'Covid', 'claim': 'Cancel', 'cancel_date': '2024-04-05', 'ppl_concerned': 'BusinessPartner'}}\n"
          ]
        }
      ],
      "source": [
        "# load json file in business rule\n",
        "\n",
        "json_rule_file_location ='./nobis.json'\n",
        "\n",
        "result = engine.evaluate(json_rule_file_location, input_json)\n",
        "print('business rule engine loaded from drive')\n",
        "print(result)"
      ]
    },
    {
      "cell_type": "code",
      "execution_count": 12,
      "metadata": {
        "colab": {
          "base_uri": "https://localhost:8080/"
        },
        "id": "IKsYB4ubsX-W",
        "outputId": "9b2cdfdc-cb24-4b55-b2d6-b034387a3353"
      },
      "outputs": [
        {
          "output_type": "stream",
          "name": "stdout",
          "text": [
            "{'result': {'stage': 'complete_fail', 'cancel_reason': 'Covid', 'claim': 'Cancel', 'ppl_concerned': 'BusinessPartner', 'documents_input': {'Penalty': 'true', 'Certif_Business': 'true', 'Certif_Covid': 'true'}, 'answer_options': '[phone_number]', 'message': 'Sorry your policies with us implies you announce a claim before midnight of the day following the issue. To discuss exceptions, please call us', 'cancel_date': '2024-04-05'}, 'performance': '2.380019ms'}\n",
            "Sorry your policies with us implies you announce a claim before midnight of the day following the issue. To discuss exceptions, please call us\n"
          ]
        }
      ],
      "source": [
        "### test bre\n",
        "\n",
        "\n",
        "result = engine.evaluate(json_rule_file_location, input_json)\n",
        "\n",
        "print(result)\n",
        "\n",
        "print(result['result']['message'])"
      ]
    },
    {
      "cell_type": "code",
      "source": [
        "### test json load\n",
        "\n",
        "input_json = '''{\n",
        "  \"claim\": \"Cancel\"\n",
        "  }\n",
        "'''\n",
        "\n",
        "input_json = json.loads(input_json)\n",
        "\n",
        "input_json[\"cancel_date\"] = \"2024-05-01\"\n",
        "\n",
        "print(type(input_json), input_json)\n",
        "\n",
        "json.dumps(input_json)"
      ],
      "metadata": {
        "colab": {
          "base_uri": "https://localhost:8080/",
          "height": 53
        },
        "id": "2K1wAhf83gVZ",
        "outputId": "b6b35edd-6f8a-446d-87f9-b889f190851c"
      },
      "execution_count": 13,
      "outputs": [
        {
          "output_type": "stream",
          "name": "stdout",
          "text": [
            "<class 'dict'> {'claim': 'Cancel', 'cancel_date': '2024-05-01'}\n"
          ]
        },
        {
          "output_type": "execute_result",
          "data": {
            "text/plain": [
              "'{\"claim\": \"Cancel\", \"cancel_date\": \"2024-05-01\"}'"
            ],
            "application/vnd.google.colaboratory.intrinsic+json": {
              "type": "string"
            }
          },
          "metadata": {},
          "execution_count": 13
        }
      ]
    },
    {
      "cell_type": "code",
      "execution_count": null,
      "metadata": {
        "colab": {
          "base_uri": "https://localhost:8080/"
        },
        "id": "e_m_Sb5rnlsO",
        "outputId": "3a8e2fc9-005a-45b6-8cae-1667926cf0b5"
      },
      "outputs": [
        {
          "output_type": "stream",
          "name": "stdout",
          "text": [
            "{}\n",
            "Please let us know what is your claim about? \n",
            "(1) Cancellation,\n",
            "(2) Baggage Loss,\n",
            "(3) Flight Delay\n",
            "\n",
            "[Cancel, Loss, Delay]\n",
            "claim\n"
          ]
        }
      ],
      "source": [
        "### run the business rule engine loop until documents requirements\n",
        "### set up to work only on Cancel for Covid\n",
        "\n",
        "\n",
        "input_json = '''{\n",
        "\n",
        "  }\n",
        "  '''\n",
        "\n",
        "loop = 'continue'\n",
        "\n",
        "#print(input_json)\n",
        "\n",
        "input_json_load = json.loads(input_json)\n",
        "\n",
        "while loop == 'continue':\n",
        "\n",
        "  ##print(type(input_json), input_json)\n",
        "\n",
        "  print(json.dumps(input_json_load))\n",
        "\n",
        "  result = engine.evaluate(json_rule_file_location, input_json_load)\n",
        "\n",
        "  #print(result)\n",
        "\n",
        "  print(result['result']['message'])\n",
        "\n",
        "  try:\n",
        "    print(result['result']['answer_options'])\n",
        "  except:\n",
        "    print('')\n",
        "\n",
        "  #print(result['result']['stage'])\n",
        "\n",
        "  if result['result']['stage'][0:8] == 'complete' or result['result']['stage'] == 'complete_fail' or result['result']['stage'] == 'documents_input':\n",
        "    break\n",
        "\n",
        "  print(result['result']['stage'])\n",
        "\n",
        "  input_user = input()\n",
        "  #globals()[result['result']['stage']]\n",
        "\n",
        "  #input_json = input_json.replace('''{''' , '''{\"'''+result['result']['stage']+'''\":\"'''+ input_user +'''\",''')  ### very dirty\n",
        "  #input_json = input_json.replace(''',\\n\\n}''' , '''}''')\n",
        "\n",
        "  #print(result['result']['stage'])\n",
        "  input_json_load[result['result']['stage']] = input_user\n",
        "\n",
        "\n",
        "\n",
        "  #print(result['result']['stage'])\n",
        "  #print(result['result']['stage'])\n",
        "  #print(input_json)\n",
        "\n"
      ]
    },
    {
      "cell_type": "code",
      "source": [],
      "metadata": {
        "id": "4MT7M7xZV0fw"
      },
      "execution_count": null,
      "outputs": []
    }
  ],
  "metadata": {
    "colab": {
      "provenance": [],
      "mount_file_id": "1OgpuW51rHhNHBJLRpmK78tZRDBFCUeNc",
      "authorship_tag": "ABX9TyOZEbABfd1qVyAQ3cMGDCpW",
      "include_colab_link": true
    },
    "kernelspec": {
      "display_name": "Python 3",
      "name": "python3"
    },
    "language_info": {
      "name": "python"
    }
  },
  "nbformat": 4,
  "nbformat_minor": 0
}